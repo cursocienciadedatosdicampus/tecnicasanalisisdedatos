{
  "nbformat": 4,
  "nbformat_minor": 0,
  "metadata": {
    "colab": {
      "provenance": []
    },
    "kernelspec": {
      "name": "python3",
      "display_name": "Python 3"
    },
    "language_info": {
      "name": "python"
    }
  },
  "cells": [
    {
      "cell_type": "code",
      "execution_count": 2,
      "metadata": {
        "id": "4CVVoot262B3"
      },
      "outputs": [],
      "source": [
        "from sklearn.cluster import KMeans\n",
        "import numpy as np"
      ]
    },
    {
      "cell_type": "code",
      "source": [
        "X = np.array([[1, 2], [1, 4], [1, 0],[10, 2], [10, 4], [10, 0]])\n",
        "kmeans = KMeans(n_clusters=2, random_state=0).fit(X)"
      ],
      "metadata": {
        "id": "yoS8N5nQ7_9t"
      },
      "execution_count": 50,
      "outputs": []
    },
    {
      "cell_type": "code",
      "source": [
        "kmeans.labels_"
      ],
      "metadata": {
        "colab": {
          "base_uri": "https://localhost:8080/"
        },
        "id": "xRxHRzt98Jyb",
        "outputId": "981e9df0-0e4f-424a-9593-a316529bbb7a"
      },
      "execution_count": 51,
      "outputs": [
        {
          "output_type": "execute_result",
          "data": {
            "text/plain": [
              "array([1, 1, 1, 0, 0, 0], dtype=int32)"
            ]
          },
          "metadata": {},
          "execution_count": 51
        }
      ]
    },
    {
      "cell_type": "code",
      "source": [
        "kmeans.predict([[0, 0], [12, 3]])\n",
        "kmeans.cluster_centers_\n",
        "\n",
        "\n",
        "#Getting unique labels\n",
        " \n",
        "u_labels = np.unique(kmeans.labels_)\n",
        " "
      ],
      "metadata": {
        "id": "B7tf5vHQ8KPS"
      },
      "execution_count": 52,
      "outputs": []
    },
    {
      "cell_type": "code",
      "source": [
        "X"
      ],
      "metadata": {
        "colab": {
          "base_uri": "https://localhost:8080/"
        },
        "id": "wU__1X6y8b1K",
        "outputId": "da2c35a3-67a4-4b04-d100-df90a21c5273"
      },
      "execution_count": 47,
      "outputs": [
        {
          "output_type": "execute_result",
          "data": {
            "text/plain": [
              "array([[ 1,  2],\n",
              "       [ 1,  4],\n",
              "       [ 1,  0],\n",
              "       [10,  2],\n",
              "       [10,  4],\n",
              "       [10,  0]])"
            ]
          },
          "metadata": {},
          "execution_count": 47
        }
      ]
    },
    {
      "cell_type": "code",
      "source": [
        "import matplotlib.pyplot as plt"
      ],
      "metadata": {
        "id": "ewJV8YjE8euS"
      },
      "execution_count": 48,
      "outputs": []
    },
    {
      "cell_type": "code",
      "source": [
        "print(X[:,0])"
      ],
      "metadata": {
        "colab": {
          "base_uri": "https://localhost:8080/"
        },
        "id": "Z4xjuW8h9ECK",
        "outputId": "493b47ca-82ef-4653-8cf8-1bdae9339ed1"
      },
      "execution_count": 14,
      "outputs": [
        {
          "output_type": "stream",
          "name": "stdout",
          "text": [
            "[ 1  1  1 10 10 10]\n"
          ]
        }
      ]
    },
    {
      "cell_type": "code",
      "source": [
        "import pandas as pd\n",
        "#plotting the results:\n",
        " \n",
        "df=pd.DataFrame(X)\n",
        "df['label']=kmeans.labels_\n",
        "\n",
        "print(df['label'].where(df['label']==0))\n",
        "\n",
        "print('*****************************')\n",
        "print(df.where(df.label == 0).dropna()[0])\n",
        "print('*****************************')\n",
        "\n",
        "for i in u_labels:\n",
        "  plt.scatter(df.where(df.label == i).dropna()[0] , df.where(df.label == i).dropna()[1], label = i)\n",
        "\n",
        "plt.legend()\n",
        "plt.show()\n",
        "\n"
      ],
      "metadata": {
        "colab": {
          "base_uri": "https://localhost:8080/",
          "height": 502
        },
        "id": "pSnC-XaP8XU6",
        "outputId": "882296b4-994a-4b4b-c6b7-d5fc46253ee1"
      },
      "execution_count": 53,
      "outputs": [
        {
          "output_type": "stream",
          "name": "stdout",
          "text": [
            "0    NaN\n",
            "1    NaN\n",
            "2    NaN\n",
            "3    0.0\n",
            "4    0.0\n",
            "5    0.0\n",
            "Name: label, dtype: float64\n",
            "*****************************\n",
            "3    10.0\n",
            "4    10.0\n",
            "5    10.0\n",
            "Name: 0, dtype: float64\n",
            "*****************************\n"
          ]
        },
        {
          "output_type": "display_data",
          "data": {
            "text/plain": [
              "<Figure size 432x288 with 1 Axes>"
            ],
            "image/png": "[encoded data removed]"
          },
          "metadata": {
            "needs_background": "light"
          }
        }
      ]
    },
    {
      "cell_type": "markdown",
      "source": [
        "Enlaces:\n",
        "\n",
        "[Ejemplo sencillo paso a paso](https://www.askpython.com/python/examples/plot-k-means-clusters-python)\n",
        "\n",
        "\n",
        "Crear una cantidad de puntos introducidos por teclado de manera aleatoria\n",
        "Crear un número de cluster aleatorio entre 1 y 10\n",
        "Dibujar los centroides\n",
        "Dibujar los datos categorizados con colores distintos según el grupo al que pertenecen\n"
      ],
      "metadata": {
        "id": "gFX9Fd7EC_eR"
      }
    },
    {
      "cell_type": "code",
      "source": [],
      "metadata": {
        "id": "IA9fHtMm8KhD"
      },
      "execution_count": null,
      "outputs": []
    }
  ]
}